{
 "cells": [
  {
   "cell_type": "code",
   "execution_count": 248,
   "id": "7ae6de01",
   "metadata": {},
   "outputs": [],
   "source": [
    "import numpy as np\n",
    "import pandas as pd\n",
    "import seaborn as sns\n",
    "import matplotlib.pyplot as plt\n",
    "%matplotlib inline\n",
    "from sklearn.model_selection import train_test_split\n",
    "from sklearn.preprocessing import StandardScaler, LabelEncoder\n",
    "from keras.models import Sequential\n",
    "from keras.layers import Dense, LSTM\n",
    "from keras.callbacks import EarlyStopping\n",
    "from datetime import datetime"
   ]
  },
  {
   "cell_type": "code",
   "execution_count": 249,
   "id": "8850d62b",
   "metadata": {},
   "outputs": [
    {
     "name": "stdout",
     "output_type": "stream",
     "text": [
      "Dataset length:  149\n",
      "Dataset shape:  (149, 6)\n",
      "Dataset:         Date  Time (24h)  Humidity(%) Weather  Temperature (C)   \\\n",
      "0  08-02-23          17        78.25   Sunny              27.0   \n",
      "1  08-02-23          17        79.34   Sunny              28.6   \n",
      "2  08-02-23           9        71.81   Sunny              29.1   \n",
      "3  08-02-23          11        68.31   Windy              29.8   \n",
      "4  08-05-23          10        68.72  Cloudy              29.3   \n",
      "\n",
      "              Location  \n",
      "0  6.867831, 79.967030  \n",
      "1  6.867818, 79.967296  \n",
      "2  6.867831, 79.967030  \n",
      "3  6.867831, 79.967030  \n",
      "4  6.867451, 79.967261  \n"
     ]
    },
    {
     "data": {
      "text/html": [
       "<div>\n",
       "<style scoped>\n",
       "    .dataframe tbody tr th:only-of-type {\n",
       "        vertical-align: middle;\n",
       "    }\n",
       "\n",
       "    .dataframe tbody tr th {\n",
       "        vertical-align: top;\n",
       "    }\n",
       "\n",
       "    .dataframe thead th {\n",
       "        text-align: right;\n",
       "    }\n",
       "</style>\n",
       "<table border=\"1\" class=\"dataframe\">\n",
       "  <thead>\n",
       "    <tr style=\"text-align: right;\">\n",
       "      <th></th>\n",
       "      <th>Date</th>\n",
       "      <th>Time (24h)</th>\n",
       "      <th>Humidity(%)</th>\n",
       "      <th>Weather</th>\n",
       "      <th>Temperature (C)</th>\n",
       "      <th>Location</th>\n",
       "    </tr>\n",
       "  </thead>\n",
       "  <tbody>\n",
       "    <tr>\n",
       "      <th>0</th>\n",
       "      <td>08-02-23</td>\n",
       "      <td>17</td>\n",
       "      <td>78.25</td>\n",
       "      <td>Sunny</td>\n",
       "      <td>27.0</td>\n",
       "      <td>6.867831, 79.967030</td>\n",
       "    </tr>\n",
       "    <tr>\n",
       "      <th>1</th>\n",
       "      <td>08-02-23</td>\n",
       "      <td>17</td>\n",
       "      <td>79.34</td>\n",
       "      <td>Sunny</td>\n",
       "      <td>28.6</td>\n",
       "      <td>6.867818, 79.967296</td>\n",
       "    </tr>\n",
       "    <tr>\n",
       "      <th>2</th>\n",
       "      <td>08-02-23</td>\n",
       "      <td>9</td>\n",
       "      <td>71.81</td>\n",
       "      <td>Sunny</td>\n",
       "      <td>29.1</td>\n",
       "      <td>6.867831, 79.967030</td>\n",
       "    </tr>\n",
       "    <tr>\n",
       "      <th>3</th>\n",
       "      <td>08-02-23</td>\n",
       "      <td>11</td>\n",
       "      <td>68.31</td>\n",
       "      <td>Windy</td>\n",
       "      <td>29.8</td>\n",
       "      <td>6.867831, 79.967030</td>\n",
       "    </tr>\n",
       "    <tr>\n",
       "      <th>4</th>\n",
       "      <td>08-05-23</td>\n",
       "      <td>10</td>\n",
       "      <td>68.72</td>\n",
       "      <td>Cloudy</td>\n",
       "      <td>29.3</td>\n",
       "      <td>6.867451, 79.967261</td>\n",
       "    </tr>\n",
       "    <tr>\n",
       "      <th>...</th>\n",
       "      <td>...</td>\n",
       "      <td>...</td>\n",
       "      <td>...</td>\n",
       "      <td>...</td>\n",
       "      <td>...</td>\n",
       "      <td>...</td>\n",
       "    </tr>\n",
       "    <tr>\n",
       "      <th>144</th>\n",
       "      <td>28-08-23</td>\n",
       "      <td>11</td>\n",
       "      <td>70.24</td>\n",
       "      <td>Rainy</td>\n",
       "      <td>31.1</td>\n",
       "      <td>6.867818, 79.967296</td>\n",
       "    </tr>\n",
       "    <tr>\n",
       "      <th>145</th>\n",
       "      <td>08-02-23</td>\n",
       "      <td>11</td>\n",
       "      <td>59.38</td>\n",
       "      <td>Sunny</td>\n",
       "      <td>29.0</td>\n",
       "      <td>6.867818, 79.967501</td>\n",
       "    </tr>\n",
       "    <tr>\n",
       "      <th>146</th>\n",
       "      <td>08-11-23</td>\n",
       "      <td>18</td>\n",
       "      <td>81.41</td>\n",
       "      <td>Cloudy</td>\n",
       "      <td>27.8</td>\n",
       "      <td>6.867818, 79.967501</td>\n",
       "    </tr>\n",
       "    <tr>\n",
       "      <th>147</th>\n",
       "      <td>20-08-23</td>\n",
       "      <td>10</td>\n",
       "      <td>62.17</td>\n",
       "      <td>Sunny</td>\n",
       "      <td>30.9</td>\n",
       "      <td>6.867818, 79.967296</td>\n",
       "    </tr>\n",
       "    <tr>\n",
       "      <th>148</th>\n",
       "      <td>14-08-23</td>\n",
       "      <td>9</td>\n",
       "      <td>70.53</td>\n",
       "      <td>Windy</td>\n",
       "      <td>28.5</td>\n",
       "      <td>6.867818, 79.967296</td>\n",
       "    </tr>\n",
       "  </tbody>\n",
       "</table>\n",
       "<p>149 rows × 6 columns</p>\n",
       "</div>"
      ],
      "text/plain": [
       "         Date  Time (24h)  Humidity(%) Weather  Temperature (C)   \\\n",
       "0    08-02-23          17        78.25   Sunny              27.0   \n",
       "1    08-02-23          17        79.34   Sunny              28.6   \n",
       "2    08-02-23           9        71.81   Sunny              29.1   \n",
       "3    08-02-23          11        68.31   Windy              29.8   \n",
       "4    08-05-23          10        68.72  Cloudy              29.3   \n",
       "..        ...         ...          ...     ...               ...   \n",
       "144  28-08-23          11        70.24   Rainy              31.1   \n",
       "145  08-02-23          11        59.38   Sunny              29.0   \n",
       "146  08-11-23          18        81.41  Cloudy              27.8   \n",
       "147  20-08-23          10        62.17   Sunny              30.9   \n",
       "148  14-08-23           9        70.53   Windy              28.5   \n",
       "\n",
       "                Location  \n",
       "0    6.867831, 79.967030  \n",
       "1    6.867818, 79.967296  \n",
       "2    6.867831, 79.967030  \n",
       "3    6.867831, 79.967030  \n",
       "4    6.867451, 79.967261  \n",
       "..                   ...  \n",
       "144  6.867818, 79.967296  \n",
       "145  6.867818, 79.967501  \n",
       "146  6.867818, 79.967501  \n",
       "147  6.867818, 79.967296  \n",
       "148  6.867818, 79.967296  \n",
       "\n",
       "[149 rows x 6 columns]"
      ]
     },
     "execution_count": 249,
     "metadata": {},
     "output_type": "execute_result"
    }
   ],
   "source": [
    "#Data import and exploration\n",
    "data = pd.read_csv(\"dataset_Path/Newone.csv\")\n",
    "\n",
    "#Remove unnecessary columns\n",
    "data.drop(columns=['Unnamed: 6','Unnamed: 7','Unnamed: 8','Unnamed: 9'], inplace=True)\n",
    "\n",
    "#displa dataset information\n",
    "print(\"Dataset length: \", len(data))\n",
    "print(\"Dataset shape: \", data.shape)\n",
    "print(\"Dataset: \", data.head())\n",
    "\n",
    "data"
   ]
  },
  {
   "cell_type": "code",
   "execution_count": 250,
   "id": "474b862a",
   "metadata": {},
   "outputs": [],
   "source": [
    "#Change the \"Weather\" column values into numerical values\n",
    "weather_mapping = {'Sunny': 0, 'Cloudy':1, 'Rainy': 2, 'Windy': 3}\n",
    "\n",
    "#Replace values in the Weather column\n",
    "data['Weather'] = data['Weather'].replace(weather_mapping)\n",
    "\n",
    "# Convert 'Date' to datetime format\n",
    "data['Date'] = pd.to_datetime(data['Date'], format='%d-%m-%y')"
   ]
  },
  {
   "cell_type": "code",
   "execution_count": 251,
   "id": "89bba02c",
   "metadata": {},
   "outputs": [
    {
     "data": {
      "text/html": [
       "<div>\n",
       "<style scoped>\n",
       "    .dataframe tbody tr th:only-of-type {\n",
       "        vertical-align: middle;\n",
       "    }\n",
       "\n",
       "    .dataframe tbody tr th {\n",
       "        vertical-align: top;\n",
       "    }\n",
       "\n",
       "    .dataframe thead th {\n",
       "        text-align: right;\n",
       "    }\n",
       "</style>\n",
       "<table border=\"1\" class=\"dataframe\">\n",
       "  <thead>\n",
       "    <tr style=\"text-align: right;\">\n",
       "      <th></th>\n",
       "      <th>Humidity(%)</th>\n",
       "      <th>Weather</th>\n",
       "      <th>Temperature (C)</th>\n",
       "      <th>Location</th>\n",
       "      <th>Datetime</th>\n",
       "    </tr>\n",
       "  </thead>\n",
       "  <tbody>\n",
       "    <tr>\n",
       "      <th>0</th>\n",
       "      <td>78.25</td>\n",
       "      <td>0</td>\n",
       "      <td>27.0</td>\n",
       "      <td>6.867831, 79.967030</td>\n",
       "      <td>2023-02-08 17:00:00</td>\n",
       "    </tr>\n",
       "    <tr>\n",
       "      <th>1</th>\n",
       "      <td>79.34</td>\n",
       "      <td>0</td>\n",
       "      <td>28.6</td>\n",
       "      <td>6.867818, 79.967296</td>\n",
       "      <td>2023-02-08 17:00:00</td>\n",
       "    </tr>\n",
       "    <tr>\n",
       "      <th>2</th>\n",
       "      <td>71.81</td>\n",
       "      <td>0</td>\n",
       "      <td>29.1</td>\n",
       "      <td>6.867831, 79.967030</td>\n",
       "      <td>2023-02-08 09:00:00</td>\n",
       "    </tr>\n",
       "    <tr>\n",
       "      <th>3</th>\n",
       "      <td>68.31</td>\n",
       "      <td>3</td>\n",
       "      <td>29.8</td>\n",
       "      <td>6.867831, 79.967030</td>\n",
       "      <td>2023-02-08 11:00:00</td>\n",
       "    </tr>\n",
       "    <tr>\n",
       "      <th>4</th>\n",
       "      <td>68.72</td>\n",
       "      <td>1</td>\n",
       "      <td>29.3</td>\n",
       "      <td>6.867451, 79.967261</td>\n",
       "      <td>2023-05-08 10:00:00</td>\n",
       "    </tr>\n",
       "    <tr>\n",
       "      <th>...</th>\n",
       "      <td>...</td>\n",
       "      <td>...</td>\n",
       "      <td>...</td>\n",
       "      <td>...</td>\n",
       "      <td>...</td>\n",
       "    </tr>\n",
       "    <tr>\n",
       "      <th>144</th>\n",
       "      <td>70.24</td>\n",
       "      <td>2</td>\n",
       "      <td>31.1</td>\n",
       "      <td>6.867818, 79.967296</td>\n",
       "      <td>2023-08-28 11:00:00</td>\n",
       "    </tr>\n",
       "    <tr>\n",
       "      <th>145</th>\n",
       "      <td>59.38</td>\n",
       "      <td>0</td>\n",
       "      <td>29.0</td>\n",
       "      <td>6.867818, 79.967501</td>\n",
       "      <td>2023-02-08 11:00:00</td>\n",
       "    </tr>\n",
       "    <tr>\n",
       "      <th>146</th>\n",
       "      <td>81.41</td>\n",
       "      <td>1</td>\n",
       "      <td>27.8</td>\n",
       "      <td>6.867818, 79.967501</td>\n",
       "      <td>2023-11-08 18:00:00</td>\n",
       "    </tr>\n",
       "    <tr>\n",
       "      <th>147</th>\n",
       "      <td>62.17</td>\n",
       "      <td>0</td>\n",
       "      <td>30.9</td>\n",
       "      <td>6.867818, 79.967296</td>\n",
       "      <td>2023-08-20 10:00:00</td>\n",
       "    </tr>\n",
       "    <tr>\n",
       "      <th>148</th>\n",
       "      <td>70.53</td>\n",
       "      <td>3</td>\n",
       "      <td>28.5</td>\n",
       "      <td>6.867818, 79.967296</td>\n",
       "      <td>2023-08-14 09:00:00</td>\n",
       "    </tr>\n",
       "  </tbody>\n",
       "</table>\n",
       "<p>149 rows × 5 columns</p>\n",
       "</div>"
      ],
      "text/plain": [
       "     Humidity(%)  Weather  Temperature (C)              Location  \\\n",
       "0          78.25        0              27.0  6.867831, 79.967030   \n",
       "1          79.34        0              28.6  6.867818, 79.967296   \n",
       "2          71.81        0              29.1  6.867831, 79.967030   \n",
       "3          68.31        3              29.8  6.867831, 79.967030   \n",
       "4          68.72        1              29.3  6.867451, 79.967261   \n",
       "..           ...      ...               ...                  ...   \n",
       "144        70.24        2              31.1  6.867818, 79.967296   \n",
       "145        59.38        0              29.0  6.867818, 79.967501   \n",
       "146        81.41        1              27.8  6.867818, 79.967501   \n",
       "147        62.17        0              30.9  6.867818, 79.967296   \n",
       "148        70.53        3              28.5  6.867818, 79.967296   \n",
       "\n",
       "               Datetime  \n",
       "0   2023-02-08 17:00:00  \n",
       "1   2023-02-08 17:00:00  \n",
       "2   2023-02-08 09:00:00  \n",
       "3   2023-02-08 11:00:00  \n",
       "4   2023-05-08 10:00:00  \n",
       "..                  ...  \n",
       "144 2023-08-28 11:00:00  \n",
       "145 2023-02-08 11:00:00  \n",
       "146 2023-11-08 18:00:00  \n",
       "147 2023-08-20 10:00:00  \n",
       "148 2023-08-14 09:00:00  \n",
       "\n",
       "[149 rows x 5 columns]"
      ]
     },
     "execution_count": 251,
     "metadata": {},
     "output_type": "execute_result"
    }
   ],
   "source": [
    "# Convert 'Date' to datetime format\n",
    "data['Time (24h)'] = pd.to_datetime(data['Time (24h)'], format='%H')\n",
    "\n",
    "# Extract time part from 'Time (24h)' column\n",
    "time_part = data['Time (24h)'].dt.time\n",
    "\n",
    "# Combine 'Date' column and time_part\n",
    "merged_datetime = data['Date'] + pd.to_timedelta(time_part.astype(str))\n",
    "\n",
    "# Assign the merged datetime to a new column\n",
    "data['Datetime'] = merged_datetime\n",
    "\n",
    "# Drop the individual 'Date' and 'Time (24h)' columns if needed\n",
    "data.drop(columns=['Date', 'Time (24h)'], inplace=True)\n",
    "\n",
    "# Set 'Datetime' column as the index\n",
    "#data.set_index('Datetime', inplace=True)\n",
    "\n",
    "data"
   ]
  },
  {
   "cell_type": "code",
   "execution_count": 252,
   "id": "f8d44370",
   "metadata": {},
   "outputs": [
    {
     "name": "stdout",
     "output_type": "stream",
     "text": [
      "Index(['Humidity(%)', 'Weather', 'Temperature (C) ', 'Location', 'Datetime'], dtype='object')\n"
     ]
    }
   ],
   "source": [
    "print(data.columns)"
   ]
  },
  {
   "cell_type": "code",
   "execution_count": 253,
   "id": "20ddb95a",
   "metadata": {},
   "outputs": [
    {
     "name": "stdout",
     "output_type": "stream",
     "text": [
      "<class 'pandas.core.frame.DataFrame'>\n",
      "RangeIndex: 149 entries, 0 to 148\n",
      "Data columns (total 5 columns):\n",
      " #   Column            Non-Null Count  Dtype         \n",
      "---  ------            --------------  -----         \n",
      " 0   Humidity(%)       149 non-null    float64       \n",
      " 1   Weather           149 non-null    int64         \n",
      " 2   Temperature (C)   149 non-null    float64       \n",
      " 3   Location          149 non-null    object        \n",
      " 4   Datetime          149 non-null    datetime64[ns]\n",
      "dtypes: datetime64[ns](1), float64(2), int64(1), object(1)\n",
      "memory usage: 5.9+ KB\n"
     ]
    }
   ],
   "source": [
    "data.info()"
   ]
  },
  {
   "cell_type": "code",
   "execution_count": 254,
   "id": "bcc26c95",
   "metadata": {},
   "outputs": [],
   "source": [
    "# Preprocessing\n",
    "# Convert 'Datetime' to numerical value\n",
    "data['Datetime'] = pd.to_datetime(data['Datetime'])\n",
    "data['Datetime'] = data['Datetime'].apply(lambda x: x.timestamp())\n",
    "\n",
    "# Remove the percentage sign and convert 'Humidity%' to numerical value\n",
    "data['Humidity(%)'] = data['Humidity(%)'].astype(float)\n",
    "\n",
    "data['Weather'] = data['Weather'].astype(float)\n",
    "\n",
    "# Scale the numerical features\n",
    "scaler = StandardScaler()\n",
    "data[['Humidity(%)', 'Temperature (C) ', 'Datetime']] = scaler.fit_transform(data[['Humidity(%)', 'Temperature (C) ', 'Datetime']])\n",
    "\n",
    "# Initialize LabelEncoder\n",
    "label_encoder = LabelEncoder()\n",
    "\n",
    "# Fit and transform the 'Location' column\n",
    "data['Location'] = label_encoder.fit_transform(data['Location'])\n",
    "\n",
    "# Print the mapping of original labels to encoded labels\n",
    "#print(\"Label Mapping:\")\n",
    "#for label, encoded_label in zip(label_encoder.classes_, label_encoder.transform(label_encoder.classes_)):\n",
    "  #  print(f\"{label} : {encoded_label}\")"
   ]
  },
  {
   "cell_type": "code",
   "execution_count": 255,
   "id": "31b9f51d",
   "metadata": {},
   "outputs": [],
   "source": [
    "data['Location'] = data['Location'].astype(float)"
   ]
  },
  {
   "cell_type": "code",
   "execution_count": 256,
   "id": "b8990a81",
   "metadata": {},
   "outputs": [
    {
     "data": {
      "text/html": [
       "<div>\n",
       "<style scoped>\n",
       "    .dataframe tbody tr th:only-of-type {\n",
       "        vertical-align: middle;\n",
       "    }\n",
       "\n",
       "    .dataframe tbody tr th {\n",
       "        vertical-align: top;\n",
       "    }\n",
       "\n",
       "    .dataframe thead th {\n",
       "        text-align: right;\n",
       "    }\n",
       "</style>\n",
       "<table border=\"1\" class=\"dataframe\">\n",
       "  <thead>\n",
       "    <tr style=\"text-align: right;\">\n",
       "      <th></th>\n",
       "      <th>Humidity(%)</th>\n",
       "      <th>Weather</th>\n",
       "      <th>Temperature (C)</th>\n",
       "      <th>Location</th>\n",
       "      <th>Datetime</th>\n",
       "    </tr>\n",
       "  </thead>\n",
       "  <tbody>\n",
       "    <tr>\n",
       "      <th>0</th>\n",
       "      <td>1.224447</td>\n",
       "      <td>0.0</td>\n",
       "      <td>-2.689830</td>\n",
       "      <td>5.0</td>\n",
       "      <td>-1.832440</td>\n",
       "    </tr>\n",
       "    <tr>\n",
       "      <th>1</th>\n",
       "      <td>1.397968</td>\n",
       "      <td>0.0</td>\n",
       "      <td>-0.924745</td>\n",
       "      <td>3.0</td>\n",
       "      <td>-1.832440</td>\n",
       "    </tr>\n",
       "    <tr>\n",
       "      <th>2</th>\n",
       "      <td>0.199238</td>\n",
       "      <td>0.0</td>\n",
       "      <td>-0.373156</td>\n",
       "      <td>5.0</td>\n",
       "      <td>-1.836296</td>\n",
       "    </tr>\n",
       "    <tr>\n",
       "      <th>3</th>\n",
       "      <td>-0.357941</td>\n",
       "      <td>3.0</td>\n",
       "      <td>0.399069</td>\n",
       "      <td>5.0</td>\n",
       "      <td>-1.835332</td>\n",
       "    </tr>\n",
       "    <tr>\n",
       "      <th>4</th>\n",
       "      <td>-0.292671</td>\n",
       "      <td>1.0</td>\n",
       "      <td>-0.152520</td>\n",
       "      <td>0.0</td>\n",
       "      <td>-0.806279</td>\n",
       "    </tr>\n",
       "    <tr>\n",
       "      <th>...</th>\n",
       "      <td>...</td>\n",
       "      <td>...</td>\n",
       "      <td>...</td>\n",
       "      <td>...</td>\n",
       "      <td>...</td>\n",
       "    </tr>\n",
       "    <tr>\n",
       "      <th>144</th>\n",
       "      <td>-0.050696</td>\n",
       "      <td>2.0</td>\n",
       "      <td>1.833201</td>\n",
       "      <td>3.0</td>\n",
       "      <td>0.489798</td>\n",
       "    </tr>\n",
       "    <tr>\n",
       "      <th>145</th>\n",
       "      <td>-1.779542</td>\n",
       "      <td>0.0</td>\n",
       "      <td>-0.483473</td>\n",
       "      <td>4.0</td>\n",
       "      <td>-1.835332</td>\n",
       "    </tr>\n",
       "    <tr>\n",
       "      <th>146</th>\n",
       "      <td>1.727500</td>\n",
       "      <td>1.0</td>\n",
       "      <td>-1.807288</td>\n",
       "      <td>4.0</td>\n",
       "      <td>1.326054</td>\n",
       "    </tr>\n",
       "    <tr>\n",
       "      <th>147</th>\n",
       "      <td>-1.335391</td>\n",
       "      <td>0.0</td>\n",
       "      <td>1.612566</td>\n",
       "      <td>3.0</td>\n",
       "      <td>0.396773</td>\n",
       "    </tr>\n",
       "    <tr>\n",
       "      <th>148</th>\n",
       "      <td>-0.004530</td>\n",
       "      <td>3.0</td>\n",
       "      <td>-1.035063</td>\n",
       "      <td>3.0</td>\n",
       "      <td>0.326885</td>\n",
       "    </tr>\n",
       "  </tbody>\n",
       "</table>\n",
       "<p>149 rows × 5 columns</p>\n",
       "</div>"
      ],
      "text/plain": [
       "     Humidity(%)  Weather  Temperature (C)   Location  Datetime\n",
       "0       1.224447      0.0         -2.689830       5.0 -1.832440\n",
       "1       1.397968      0.0         -0.924745       3.0 -1.832440\n",
       "2       0.199238      0.0         -0.373156       5.0 -1.836296\n",
       "3      -0.357941      3.0          0.399069       5.0 -1.835332\n",
       "4      -0.292671      1.0         -0.152520       0.0 -0.806279\n",
       "..           ...      ...               ...       ...       ...\n",
       "144    -0.050696      2.0          1.833201       3.0  0.489798\n",
       "145    -1.779542      0.0         -0.483473       4.0 -1.835332\n",
       "146     1.727500      1.0         -1.807288       4.0  1.326054\n",
       "147    -1.335391      0.0          1.612566       3.0  0.396773\n",
       "148    -0.004530      3.0         -1.035063       3.0  0.326885\n",
       "\n",
       "[149 rows x 5 columns]"
      ]
     },
     "execution_count": 256,
     "metadata": {},
     "output_type": "execute_result"
    }
   ],
   "source": [
    "data"
   ]
  },
  {
   "cell_type": "code",
   "execution_count": 257,
   "id": "5391fafb",
   "metadata": {},
   "outputs": [
    {
     "name": "stdout",
     "output_type": "stream",
     "text": [
      "<class 'pandas.core.frame.DataFrame'>\n",
      "RangeIndex: 149 entries, 0 to 148\n",
      "Data columns (total 5 columns):\n",
      " #   Column            Non-Null Count  Dtype  \n",
      "---  ------            --------------  -----  \n",
      " 0   Humidity(%)       149 non-null    float64\n",
      " 1   Weather           149 non-null    float64\n",
      " 2   Temperature (C)   149 non-null    float64\n",
      " 3   Location          149 non-null    float64\n",
      " 4   Datetime          149 non-null    float64\n",
      "dtypes: float64(5)\n",
      "memory usage: 5.9 KB\n"
     ]
    }
   ],
   "source": [
    "data.info()"
   ]
  },
  {
   "cell_type": "code",
   "execution_count": 258,
   "id": "c597ae4a",
   "metadata": {},
   "outputs": [],
   "source": [
    "# Splitting into input and output\n",
    "X = data[['Humidity(%)', 'Weather', 'Temperature (C) ', 'Datetime']].values\n",
    "y = data['Location'].values"
   ]
  },
  {
   "cell_type": "code",
   "execution_count": 259,
   "id": "b86edf48",
   "metadata": {},
   "outputs": [],
   "source": [
    "# Splitting into train and test sets\n",
    "X_train, X_test, y_train, y_test = train_test_split(X, y, test_size=0.2, random_state=42)"
   ]
  },
  {
   "cell_type": "code",
   "execution_count": 260,
   "id": "faaf13e9",
   "metadata": {},
   "outputs": [],
   "source": [
    "# Reshape the input data for LSTM\n",
    "X_train = np.reshape(X_train, (X_train.shape[0], 1, X_train.shape[1]))\n",
    "X_test = np.reshape(X_test, (X_test.shape[0], 1, X_test.shape[1]))"
   ]
  },
  {
   "cell_type": "code",
   "execution_count": 261,
   "id": "7b529a34",
   "metadata": {},
   "outputs": [
    {
     "data": {
      "text/plain": [
       "(119, 1, 4)"
      ]
     },
     "execution_count": 261,
     "metadata": {},
     "output_type": "execute_result"
    }
   ],
   "source": [
    "X_train.shape"
   ]
  },
  {
   "cell_type": "code",
   "execution_count": 262,
   "id": "6141d6b4",
   "metadata": {},
   "outputs": [
    {
     "data": {
      "text/plain": [
       "(30, 1, 4)"
      ]
     },
     "execution_count": 262,
     "metadata": {},
     "output_type": "execute_result"
    }
   ],
   "source": [
    "X_test.shape"
   ]
  },
  {
   "cell_type": "code",
   "execution_count": 263,
   "id": "5f18d923",
   "metadata": {},
   "outputs": [],
   "source": [
    "from keras.models import Sequential\n",
    "from keras.layers import Dense, LSTM, Dropout"
   ]
  },
  {
   "cell_type": "code",
   "execution_count": 296,
   "id": "7674dc61",
   "metadata": {},
   "outputs": [],
   "source": [
    "# Define the RNN model\n",
    "model = Sequential()\n",
    "model.add(LSTM(50, input_shape=(X_train.shape[1], X_train.shape[2])))\n",
    "model.add(Dense(1, activation='sigmoid'))  # Use 'sigmoid' activation for binary classification"
   ]
  },
  {
   "cell_type": "code",
   "execution_count": 297,
   "id": "1b3d5897",
   "metadata": {},
   "outputs": [
    {
     "name": "stdout",
     "output_type": "stream",
     "text": [
      "Epoch 1/25\n",
      "5/5 [==============================] - 5s 203ms/step - loss: 0.6240 - accuracy: 0.0504 - val_loss: 0.5620 - val_accuracy: 0.0667\n",
      "Epoch 2/25\n",
      "5/5 [==============================] - 0s 15ms/step - loss: 0.5663 - accuracy: 0.0588 - val_loss: 0.4908 - val_accuracy: 0.0667\n",
      "Epoch 3/25\n",
      "5/5 [==============================] - 0s 13ms/step - loss: 0.5049 - accuracy: 0.0588 - val_loss: 0.4163 - val_accuracy: 0.0667\n",
      "Epoch 4/25\n",
      "5/5 [==============================] - 0s 12ms/step - loss: 0.4453 - accuracy: 0.0504 - val_loss: 0.3410 - val_accuracy: 0.0667\n",
      "Epoch 5/25\n",
      "5/5 [==============================] - 0s 12ms/step - loss: 0.3826 - accuracy: 0.0504 - val_loss: 0.2648 - val_accuracy: 0.0667\n",
      "Epoch 6/25\n",
      "5/5 [==============================] - 0s 11ms/step - loss: 0.3209 - accuracy: 0.0420 - val_loss: 0.1846 - val_accuracy: 0.0667\n",
      "Epoch 7/25\n",
      "5/5 [==============================] - 0s 11ms/step - loss: 0.2552 - accuracy: 0.0420 - val_loss: 0.1015 - val_accuracy: 0.0667\n",
      "Epoch 8/25\n",
      "5/5 [==============================] - 0s 11ms/step - loss: 0.1845 - accuracy: 0.0420 - val_loss: 0.0140 - val_accuracy: 0.0667\n",
      "Epoch 9/25\n",
      "5/5 [==============================] - 0s 11ms/step - loss: 0.1100 - accuracy: 0.0420 - val_loss: -0.0765 - val_accuracy: 0.0667\n",
      "Epoch 10/25\n",
      "5/5 [==============================] - 0s 11ms/step - loss: 0.0334 - accuracy: 0.0420 - val_loss: -0.1739 - val_accuracy: 0.0667\n",
      "Epoch 11/25\n",
      "5/5 [==============================] - 0s 14ms/step - loss: -0.0520 - accuracy: 0.0420 - val_loss: -0.2760 - val_accuracy: 0.0667\n",
      "Epoch 12/25\n",
      "5/5 [==============================] - 0s 12ms/step - loss: -0.1376 - accuracy: 0.0420 - val_loss: -0.3870 - val_accuracy: 0.0667\n",
      "Epoch 13/25\n",
      "5/5 [==============================] - 0s 11ms/step - loss: -0.2297 - accuracy: 0.0420 - val_loss: -0.5051 - val_accuracy: 0.0667\n",
      "Epoch 14/25\n",
      "5/5 [==============================] - 0s 10ms/step - loss: -0.3336 - accuracy: 0.0420 - val_loss: -0.6258 - val_accuracy: 0.0667\n",
      "Epoch 15/25\n",
      "5/5 [==============================] - 0s 18ms/step - loss: -0.4421 - accuracy: 0.0420 - val_loss: -0.7551 - val_accuracy: 0.0667\n",
      "Epoch 16/25\n",
      "5/5 [==============================] - 0s 16ms/step - loss: -0.5499 - accuracy: 0.0420 - val_loss: -0.8950 - val_accuracy: 0.0667\n",
      "Epoch 17/25\n",
      "5/5 [==============================] - 0s 13ms/step - loss: -0.6698 - accuracy: 0.0420 - val_loss: -1.0398 - val_accuracy: 0.0667\n",
      "Epoch 18/25\n",
      "5/5 [==============================] - 0s 12ms/step - loss: -0.7969 - accuracy: 0.0420 - val_loss: -1.1945 - val_accuracy: 0.0667\n",
      "Epoch 19/25\n",
      "5/5 [==============================] - 0s 13ms/step - loss: -0.9383 - accuracy: 0.0420 - val_loss: -1.3525 - val_accuracy: 0.0667\n",
      "Epoch 20/25\n",
      "5/5 [==============================] - 0s 13ms/step - loss: -1.0705 - accuracy: 0.0420 - val_loss: -1.5238 - val_accuracy: 0.0667\n",
      "Epoch 21/25\n",
      "5/5 [==============================] - 0s 11ms/step - loss: -1.2164 - accuracy: 0.0420 - val_loss: -1.7032 - val_accuracy: 0.0667\n",
      "Epoch 22/25\n",
      "5/5 [==============================] - 0s 13ms/step - loss: -1.3723 - accuracy: 0.0420 - val_loss: -1.8900 - val_accuracy: 0.0667\n",
      "Epoch 23/25\n",
      "5/5 [==============================] - 0s 11ms/step - loss: -1.5341 - accuracy: 0.0420 - val_loss: -2.0846 - val_accuracy: 0.0667\n",
      "Epoch 24/25\n",
      "5/5 [==============================] - 0s 12ms/step - loss: -1.7052 - accuracy: 0.0420 - val_loss: -2.2848 - val_accuracy: 0.0667\n",
      "Epoch 25/25\n",
      "5/5 [==============================] - 0s 12ms/step - loss: -1.8850 - accuracy: 0.0420 - val_loss: -2.4918 - val_accuracy: 0.0667\n"
     ]
    }
   ],
   "source": [
    "# Compile the model\n",
    "model.compile(loss='binary_crossentropy', optimizer='adam', metrics=['accuracy'])  # Use 'binary_crossentropy' for binary classification\n",
    "\n",
    "# Define early stopping callback\n",
    "early_stopping = EarlyStopping(monitor='val_loss', patience=5)\n",
    "\n",
    "# Train the model\n",
    "history = model.fit(X_train, y_train, epochs=25, batch_size=24, validation_data=(X_test, y_test), callbacks=[early_stopping], verbose=1)"
   ]
  },
  {
   "cell_type": "code",
   "execution_count": 298,
   "id": "ddb877bf",
   "metadata": {},
   "outputs": [
    {
     "name": "stdout",
     "output_type": "stream",
     "text": [
      "Accuracy: 6.67\n"
     ]
    }
   ],
   "source": [
    "# Evaluate the model\n",
    "_, accuracy = model.evaluate(X_test, y_test, verbose=0)\n",
    "print('Accuracy: %.2f' % (accuracy*100))"
   ]
  },
  {
   "cell_type": "code",
   "execution_count": 299,
   "id": "c0f36821",
   "metadata": {},
   "outputs": [
    {
     "name": "stdout",
     "output_type": "stream",
     "text": [
      "1/1 [==============================] - 0s 497ms/step\n",
      "Root Mean Squared Error (RMSE): 2.1984843263788196\n"
     ]
    }
   ],
   "source": [
    "from sklearn.metrics import mean_squared_error\n",
    "import math\n",
    "\n",
    "# Make predictions on the test data\n",
    "y_pred_prob = model.predict(X_test)\n",
    "\n",
    "# Convert probabilities to class labels\n",
    "y_pred = np.round(y_pred_prob).astype(int)\n",
    "\n",
    "# Calculate RMSE\n",
    "rmse = math.sqrt(mean_squared_error(y_test, y_pred))\n",
    "print('Root Mean Squared Error (RMSE):', rmse)"
   ]
  },
  {
   "cell_type": "code",
   "execution_count": 300,
   "id": "5a33a664",
   "metadata": {},
   "outputs": [
    {
     "name": "stderr",
     "output_type": "stream",
     "text": [
      "D:\\Software\\Anaconda\\Software\\Lib\\site-packages\\keras\\src\\engine\\training.py:3103: UserWarning: You are saving your model as an HDF5 file via `model.save()`. This file format is considered legacy. We recommend using instead the native Keras format, e.g. `model.save('my_model.keras')`.\n",
      "  saving_api.save_model(\n"
     ]
    }
   ],
   "source": [
    "# Save the trained model\n",
    "model.save(\"rnn_model.h5\")"
   ]
  },
  {
   "cell_type": "code",
   "execution_count": 301,
   "id": "5e3d6df4",
   "metadata": {},
   "outputs": [
    {
     "data": {
      "image/png": "[encoded data removed]",
      "text/plain": [
       "<Figure size 1000x500 with 1 Axes>"
      ]
     },
     "metadata": {},
     "output_type": "display_data"
    },
    {
     "data": {
      "image/png": "[encoded data removed]",
      "text/plain": [
       "<Figure size 1000x500 with 1 Axes>"
      ]
     },
     "metadata": {},
     "output_type": "display_data"
    }
   ],
   "source": [
    "# Plot training and validation loss\n",
    "plt.figure(figsize=(10, 5))\n",
    "plt.plot(history.history['loss'], label='Training Loss')\n",
    "plt.plot(history.history['val_loss'], label='Validation Loss')\n",
    "plt.title('Training and Validation Loss')\n",
    "plt.xlabel('Epochs')\n",
    "plt.ylabel('Loss')\n",
    "plt.legend()\n",
    "plt.show()\n",
    "\n",
    "# Plot training and validation accuracy\n",
    "plt.figure(figsize=(10, 5))\n",
    "plt.plot(history.history['accuracy'], label='Training Accuracy')\n",
    "plt.plot(history.history['val_accuracy'], label='Validation Accuracy')\n",
    "plt.title('Training and Validation Accuracy')\n",
    "plt.xlabel('Epochs')\n",
    "plt.ylabel('Accuracy')\n",
    "plt.legend()\n",
    "plt.show()\n"
   ]
  },
  {
   "cell_type": "code",
   "execution_count": 302,
   "id": "94ece03b",
   "metadata": {},
   "outputs": [
    {
     "name": "stdout",
     "output_type": "stream",
     "text": [
      "1/1 [==============================] - 0s 21ms/step\n"
     ]
    },
    {
     "data": {
      "image/png": "[encoded data removed]",
      "text/plain": [
       "<Figure size 1000x600 with 1 Axes>"
      ]
     },
     "metadata": {},
     "output_type": "display_data"
    }
   ],
   "source": [
    "import matplotlib.pyplot as plt\n",
    "\n",
    "# Predict locations using the trained model\n",
    "y_pred = model.predict(X_test)\n",
    "\n",
    "# Plot actual vs predicted locations\n",
    "plt.figure(figsize=(10, 6))\n",
    "plt.plot(y_test, label='Actual Location', marker='o')\n",
    "plt.plot(y_pred, label='Predicted Location', marker='x')\n",
    "plt.title('Actual vs Predicted Location')\n",
    "plt.xlabel('Index')\n",
    "plt.ylabel('Location')\n",
    "plt.legend()\n",
    "plt.grid(True)\n",
    "plt.show()"
   ]
  },
  {
   "cell_type": "code",
   "execution_count": 273,
   "id": "85138672",
   "metadata": {},
   "outputs": [
    {
     "name": "stdout",
     "output_type": "stream",
     "text": [
      "Enter datetime (YYYY-MM-DD HH:MM:SS): 2024-04-27 08:00:00\n",
      "Enter temperature (in Celsius): 29\n",
      "Enter humidity (%): 79\n",
      "1/1 [==============================] - 1s 505ms/step\n",
      "Predicted Location: 6.867831, 79.967030\n"
     ]
    }
   ],
   "source": [
    "import numpy as np\n",
    "from keras.models import load_model\n",
    "from sklearn.preprocessing import StandardScaler\n",
    "from datetime import datetime\n",
    "\n",
    "# Load the trained model\n",
    "model = load_model(\"rnn_model.h5\")\n",
    "\n",
    "###################################################################\n",
    "\n",
    "# Load the scaler used for preprocessing\n",
    "scaler = StandardScaler()\n",
    "scaler.mean_ = np.array([68.131208, 1.457048, 26.176510, 1631788596.9119325])\n",
    "scaler.scale_ = np.array([20.166091, 1.075945, 2.178171, 766633.174204762])\n",
    "\n",
    "# Function to preprocess user input and make predictions\n",
    "def predict_location(datetime_input, temperature, humidity):\n",
    "    # Convert datetime to timestamp\n",
    "    timestamp = datetime_input.timestamp()\n",
    "    \n",
    "    # Scale the input features\n",
    "    scaled_features = scaler.transform([[humidity, 0, temperature, timestamp]])\n",
    "    \n",
    "    # Reshape the input data for LSTM\n",
    "    input_data = np.reshape(scaled_features, (scaled_features.shape[0], 1, scaled_features.shape[1]))\n",
    "    \n",
    "    # Make predictions\n",
    "    prediction = model.predict(input_data)\n",
    "    \n",
    "    return prediction\n",
    "\n",
    "####################################################################\n",
    "\n",
    "# Take user input for datetime\n",
    "datetime_input_str = input(\"Enter datetime (YYYY-MM-DD HH:MM:SS): \")\n",
    "datetime_input = datetime.strptime(datetime_input_str, \"%Y-%m-%d %H:%M:%S\")\n",
    "\n",
    "# Take user input for temperature\n",
    "temperature_input = float(input(\"Enter temperature (in Celsius): \"))\n",
    "\n",
    "# Take user input for humidity\n",
    "humidity_input = float(input(\"Enter humidity (%): \"))\n",
    "\n",
    "#####################################################################\n",
    "\n",
    "# Predict location\n",
    "prediction = predict_location(datetime_input, temperature_input, humidity_input)\n",
    "\n",
    "# Convert the prediction numpy array to a single integer value\n",
    "predicted_location = int(np.round(prediction[0]))\n",
    "\n",
    "# Map the predicted location to corresponding coordinates\n",
    "location_mapping = {\n",
    "    1: \"6.867831, 79.967030\",\n",
    "    2: \"6.867818, 79.967296\",\n",
    "    3: \"6.867818, 79.967501\",\n",
    "    4: \"6.867690, 79.967585\",\n",
    "    5: \"6.867536, 79.967425\",\n",
    "    6: \"6.867451, 79.967261\",\n",
    "    7: \"6.867603, 79.967033\"\n",
    "}\n",
    "\n",
    "# Convert predicted location to corresponding coordinates\n",
    "predicted_coordinates = location_mapping.get(predicted_location, \"No location detected\")\n",
    "\n",
    "print(\"Predicted Location:\", predicted_coordinates)\n"
   ]
  },
  {
   "cell_type": "code",
   "execution_count": null,
   "id": "7e1f6082",
   "metadata": {},
   "outputs": [],
   "source": []
  }
 ],
 "metadata": {
  "kernelspec": {
   "display_name": "Python 3 (ipykernel)",
   "language": "python",
   "name": "python3"
  },
  "language_info": {
   "codemirror_mode": {
    "name": "ipython",
    "version": 3
   },
   "file_extension": ".py",
   "mimetype": "text/x-python",
   "name": "python",
   "nbconvert_exporter": "python",
   "pygments_lexer": "ipython3",
   "version": "3.11.5"
  }
 },
 "nbformat": 4,
 "nbformat_minor": 5
}
